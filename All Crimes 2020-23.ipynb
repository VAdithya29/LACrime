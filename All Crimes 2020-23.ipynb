{
 "cells": [
  {
   "cell_type": "markdown",
   "id": "8aecfe2f-89ce-4ec0-8a18-a6835714c0e0",
   "metadata": {},
   "source": [
    "Age > 0 => Crimes on Humans  \n",
    "Years Considered: 2020-2023  \n",
    "Crimes Considered: All types"
   ]
  },
  {
   "cell_type": "code",
   "execution_count": 1,
   "id": "1a730309-a3b5-4b9c-865a-9679006e182d",
   "metadata": {},
   "outputs": [],
   "source": [
    "import pandas as pd\n",
    "import numpy as np\n",
    "from sklearn.model_selection import train_test_split\n",
    "from sklearn.ensemble import RandomForestClassifier\n",
    "from sklearn.metrics import accuracy_score, classification_report\n",
    "import tensorflow as tf\n",
    "from tensorflow.keras.models import Sequential\n",
    "from tensorflow.keras.layers import Dense\n",
    "from tensorflow.keras.utils import to_categorical\n",
    "import matplotlib.pyplot as plt\n",
    "from sklearn.model_selection import GridSearchCV, RandomizedSearchCV\n",
    "import keras_tuner as kt\n",
    "from tensorflow.keras.layers import Dropout\n",
    "from tensorflow.keras.optimizers import Adam\n",
    "import plotly.express as px"
   ]
  },
  {
   "cell_type": "markdown",
   "id": "16d71786-4fcd-46f0-b0f9-8fc7e0c5801d",
   "metadata": {},
   "source": [
    "Dataset Cleaning"
   ]
  },
  {
   "cell_type": "code",
   "execution_count": 2,
   "id": "9e8459fb-2883-4008-9a68-c6a5007ec274",
   "metadata": {},
   "outputs": [],
   "source": [
    "# Load the data\n",
    "crimeData = pd.read_csv('LA Crime Data.csv')"
   ]
  },
  {
   "cell_type": "code",
   "execution_count": 3,
   "id": "be95672e-da52-4048-ab3a-01b65924f242",
   "metadata": {},
   "outputs": [],
   "source": [
    "# List of columns to drop\n",
    "colsToRemove = [\n",
    "    'DR_NO', 'Date Rptd', 'Rpt Dist No', 'Part 1-2', 'Mocodes', \n",
    "    'Status', 'Status Desc', 'Crm Cd 1', 'Crm Cd 2', 'Crm Cd 3', \n",
    "    'Crm Cd 4', 'LOCATION', 'Cross Street', 'Weapon Used Cd', 'Weapon Desc',\n",
    "    'Premis Cd', 'Premis Desc', 'LAT', 'LON'\n",
    "]\n",
    "\n",
    "crimeDataCleaned = crimeData.drop(columns=colsToRemove)"
   ]
  },
  {
   "cell_type": "code",
   "execution_count": 4,
   "id": "c0d3711a-48c4-47e0-90e1-e5835d346514",
   "metadata": {},
   "outputs": [],
   "source": [
    "# Convert DATE OCC to datetime and extract Month and Year\n",
    "crimeDataCleaned['DATE OCC'] = pd.to_datetime(crimeDataCleaned['DATE OCC'], format='%m/%d/%Y %I:%M:%S %p')\n",
    "crimeDataCleaned['Year'] = crimeDataCleaned['DATE OCC'].dt.year\n",
    "crimeDataCleaned['Month'] = crimeDataCleaned['DATE OCC'].dt.month"
   ]
  },
  {
   "cell_type": "code",
   "execution_count": 5,
   "id": "f2ee6bbf-ec3a-466d-b59f-98e63cfc900e",
   "metadata": {},
   "outputs": [
    {
     "data": {
      "text/html": [
       "<div>\n",
       "<style scoped>\n",
       "    .dataframe tbody tr th:only-of-type {\n",
       "        vertical-align: middle;\n",
       "    }\n",
       "\n",
       "    .dataframe tbody tr th {\n",
       "        vertical-align: top;\n",
       "    }\n",
       "\n",
       "    .dataframe thead th {\n",
       "        text-align: right;\n",
       "    }\n",
       "</style>\n",
       "<table border=\"1\" class=\"dataframe\">\n",
       "  <thead>\n",
       "    <tr style=\"text-align: right;\">\n",
       "      <th></th>\n",
       "      <th>DATE OCC</th>\n",
       "      <th>TIME OCC</th>\n",
       "      <th>AREA</th>\n",
       "      <th>Crm Cd</th>\n",
       "      <th>Vict Age</th>\n",
       "      <th>Year</th>\n",
       "      <th>Month</th>\n",
       "    </tr>\n",
       "  </thead>\n",
       "  <tbody>\n",
       "    <tr>\n",
       "      <th>count</th>\n",
       "      <td>944235</td>\n",
       "      <td>944235.000000</td>\n",
       "      <td>944235.00000</td>\n",
       "      <td>944235.000000</td>\n",
       "      <td>944235.000000</td>\n",
       "      <td>944235.000000</td>\n",
       "      <td>944235.000000</td>\n",
       "    </tr>\n",
       "    <tr>\n",
       "      <th>mean</th>\n",
       "      <td>2022-03-22 01:21:52.136491776</td>\n",
       "      <td>1338.047956</td>\n",
       "      <td>10.72113</td>\n",
       "      <td>500.810848</td>\n",
       "      <td>29.499314</td>\n",
       "      <td>2021.744734</td>\n",
       "      <td>6.250125</td>\n",
       "    </tr>\n",
       "    <tr>\n",
       "      <th>min</th>\n",
       "      <td>2020-01-01 00:00:00</td>\n",
       "      <td>1.000000</td>\n",
       "      <td>1.00000</td>\n",
       "      <td>110.000000</td>\n",
       "      <td>-4.000000</td>\n",
       "      <td>2020.000000</td>\n",
       "      <td>1.000000</td>\n",
       "    </tr>\n",
       "    <tr>\n",
       "      <th>25%</th>\n",
       "      <td>2021-03-08 00:00:00</td>\n",
       "      <td>900.000000</td>\n",
       "      <td>6.00000</td>\n",
       "      <td>331.000000</td>\n",
       "      <td>0.000000</td>\n",
       "      <td>2021.000000</td>\n",
       "      <td>3.000000</td>\n",
       "    </tr>\n",
       "    <tr>\n",
       "      <th>50%</th>\n",
       "      <td>2022-04-09 00:00:00</td>\n",
       "      <td>1419.000000</td>\n",
       "      <td>11.00000</td>\n",
       "      <td>442.000000</td>\n",
       "      <td>30.000000</td>\n",
       "      <td>2022.000000</td>\n",
       "      <td>6.000000</td>\n",
       "    </tr>\n",
       "    <tr>\n",
       "      <th>75%</th>\n",
       "      <td>2023-04-10 00:00:00</td>\n",
       "      <td>1900.000000</td>\n",
       "      <td>16.00000</td>\n",
       "      <td>626.000000</td>\n",
       "      <td>45.000000</td>\n",
       "      <td>2023.000000</td>\n",
       "      <td>9.000000</td>\n",
       "    </tr>\n",
       "    <tr>\n",
       "      <th>max</th>\n",
       "      <td>2024-05-13 00:00:00</td>\n",
       "      <td>2359.000000</td>\n",
       "      <td>21.00000</td>\n",
       "      <td>956.000000</td>\n",
       "      <td>120.000000</td>\n",
       "      <td>2024.000000</td>\n",
       "      <td>12.000000</td>\n",
       "    </tr>\n",
       "    <tr>\n",
       "      <th>std</th>\n",
       "      <td>NaN</td>\n",
       "      <td>652.446103</td>\n",
       "      <td>6.09928</td>\n",
       "      <td>207.283501</td>\n",
       "      <td>21.882246</td>\n",
       "      <td>1.239839</td>\n",
       "      <td>3.490658</td>\n",
       "    </tr>\n",
       "  </tbody>\n",
       "</table>\n",
       "</div>"
      ],
      "text/plain": [
       "                            DATE OCC       TIME OCC          AREA  \\\n",
       "count                         944235  944235.000000  944235.00000   \n",
       "mean   2022-03-22 01:21:52.136491776    1338.047956      10.72113   \n",
       "min              2020-01-01 00:00:00       1.000000       1.00000   \n",
       "25%              2021-03-08 00:00:00     900.000000       6.00000   \n",
       "50%              2022-04-09 00:00:00    1419.000000      11.00000   \n",
       "75%              2023-04-10 00:00:00    1900.000000      16.00000   \n",
       "max              2024-05-13 00:00:00    2359.000000      21.00000   \n",
       "std                              NaN     652.446103       6.09928   \n",
       "\n",
       "              Crm Cd       Vict Age           Year          Month  \n",
       "count  944235.000000  944235.000000  944235.000000  944235.000000  \n",
       "mean      500.810848      29.499314    2021.744734       6.250125  \n",
       "min       110.000000      -4.000000    2020.000000       1.000000  \n",
       "25%       331.000000       0.000000    2021.000000       3.000000  \n",
       "50%       442.000000      30.000000    2022.000000       6.000000  \n",
       "75%       626.000000      45.000000    2023.000000       9.000000  \n",
       "max       956.000000     120.000000    2024.000000      12.000000  \n",
       "std       207.283501      21.882246       1.239839       3.490658  "
      ]
     },
     "execution_count": 5,
     "metadata": {},
     "output_type": "execute_result"
    }
   ],
   "source": [
    "crimeDataCleaned.describe()"
   ]
  },
  {
   "cell_type": "markdown",
   "id": "8b4b6096-c2e5-4f96-b131-2788a8ff4496",
   "metadata": {},
   "source": [
    "Fix TIME OCC"
   ]
  },
  {
   "cell_type": "code",
   "execution_count": 6,
   "id": "5d443eab-20b0-4f13-8b51-b3c4954319da",
   "metadata": {},
   "outputs": [],
   "source": [
    "def correct_time_occ(time_occ):\n",
    "    time_occ_str = str(time_occ)  # Convert to string for consistency\n",
    "    length = len(time_occ_str)\n",
    "\n",
    "    if length == 1:\n",
    "        return f\"0{time_occ_str}00\"  # Single digit: prepend \"0\" and append \"00\"\n",
    "    elif length == 2:\n",
    "        return f\"{time_occ_str}00\"  # Two digits: append \"00\"\n",
    "    elif length == 3:\n",
    "        return f\"0{time_occ_str}\"  # Three digits: prepend \"0\"\n",
    "    elif length == 4:\n",
    "        return f\"{time_occ_str}\"  # Already in \"HHMM\" format, so return as is\n",
    "    else:\n",
    "        return time_occ_str  # Return as is for any other case\n",
    "\n",
    "# Apply the function to correct TIME.OCC values\n",
    "crimeDataCleaned['TIME OCC'] = crimeDataCleaned['TIME OCC'].apply(correct_time_occ)\n",
    "\n",
    "# Extract the hour from the corrected TIME OCC values\n",
    "crimeDataCleaned['hour'] = crimeDataCleaned['TIME OCC'].str[:2].astype(int)"
   ]
  },
  {
   "cell_type": "code",
   "execution_count": 7,
   "id": "a4da8f78-1230-42cc-bc67-cd6ba09aef0c",
   "metadata": {},
   "outputs": [],
   "source": [
    "# Filter to kepp only crimes from 2023\n",
    "crimeDataCleaned = crimeDataCleaned[crimeDataCleaned['Year'] != 2024]"
   ]
  },
  {
   "cell_type": "code",
   "execution_count": 8,
   "id": "05b745ac-055d-44f1-969e-399e14e1543e",
   "metadata": {},
   "outputs": [],
   "source": [
    "# Filter out rows where hour is greater than 23\n",
    "crimeDataCleaned = crimeDataCleaned[crimeDataCleaned['hour'] <= 23 ]"
   ]
  },
  {
   "cell_type": "code",
   "execution_count": 9,
   "id": "4a0069df-2921-402a-95de-2b98102bbc88",
   "metadata": {},
   "outputs": [
    {
     "name": "stdout",
     "output_type": "stream",
     "text": [
      "DATE OCC        datetime64[ns]\n",
      "TIME OCC                object\n",
      "AREA                  category\n",
      "AREA NAME               object\n",
      "Crm Cd                category\n",
      "Crm Cd Desc             object\n",
      "Vict Age                 int64\n",
      "Vict Sex              category\n",
      "Vict Descent            object\n",
      "Year                     int64\n",
      "Month                    int64\n",
      "hour                     int64\n",
      "dtype: object\n"
     ]
    }
   ],
   "source": [
    "# To ensure all columns have the right type assigned to it.\n",
    "\n",
    "# Convert categorical columns to 'category' dtype\n",
    "crimeDataCleaned['AREA'] = crimeDataCleaned['AREA'].astype('category')\n",
    "crimeDataCleaned['Crm Cd'] = crimeDataCleaned['Crm Cd'].astype('category')\n",
    "crimeDataCleaned['Vict Sex'] = crimeDataCleaned['Vict Sex'].astype('category')\n",
    "\n",
    "# Convert numerical columns to 'float' or 'int' dtype if needed\n",
    "crimeDataCleaned['Vict Age'] = crimeDataCleaned['Vict Age'].astype('int')  # if age can have decimal values; use int if only whole numbers\n",
    "# crimeDataCleaned['LAT'] = crimeDataCleaned['LAT'].astype('float')\n",
    "# crimeDataCleaned['LON'] = crimeDataCleaned['LON'].astype('float')\n",
    "crimeDataCleaned['Year'] = crimeDataCleaned['Year'].astype('int')\n",
    "crimeDataCleaned['Month'] = crimeDataCleaned['Month'].astype('int')\n",
    "crimeDataCleaned['hour'] = crimeDataCleaned['hour'].astype('int')\n",
    "\n",
    "# Display the data types to confirm the changes\n",
    "print(crimeDataCleaned.dtypes)"
   ]
  },
  {
   "cell_type": "code",
   "execution_count": 10,
   "id": "72e87369-dd31-4a63-a43b-e0dcc56fc0ae",
   "metadata": {},
   "outputs": [],
   "source": [
    "# This is where we filter out specific data to feed the model\n",
    "# Filter data to only include records where Vict Age > 0\n",
    "filtered_data = crimeDataCleaned[crimeDataCleaned['Vict Age'] > 0].copy()"
   ]
  },
  {
   "cell_type": "code",
   "execution_count": 11,
   "id": "5e810c2d-6d1d-478b-a9d1-33e067e4afa0",
   "metadata": {},
   "outputs": [],
   "source": [
    "# Encode the target variable as category codes\n",
    "filtered_data['Crm Cd'] = filtered_data['Crm Cd'].cat.codes"
   ]
  },
  {
   "cell_type": "code",
   "execution_count": 12,
   "id": "a0b51daa-2acf-4348-a0e5-4a7f0507d864",
   "metadata": {},
   "outputs": [],
   "source": [
    "# Drop unnecessary columns\n",
    "filtered_data = filtered_data.drop(columns=['DATE OCC', 'TIME OCC', 'AREA NAME', 'Crm Cd Desc', 'Year'])"
   ]
  },
  {
   "cell_type": "code",
   "execution_count": 13,
   "id": "3417b996-89b5-49d9-a6a8-821c2022ecc5",
   "metadata": {},
   "outputs": [],
   "source": [
    "# One-hot encode categorical columns\n",
    "filtered_data = pd.get_dummies(filtered_data, columns=['AREA', 'Vict Sex', 'Vict Descent'], drop_first=True)"
   ]
  },
  {
   "cell_type": "code",
   "execution_count": 14,
   "id": "71e310d9-8a79-424d-a4d8-cfcda2336bf4",
   "metadata": {},
   "outputs": [],
   "source": [
    "# Split the data into features (X) and target (y)\n",
    "X = filtered_data.drop(columns=['Crm Cd'])\n",
    "y = filtered_data['Crm Cd']"
   ]
  },
  {
   "cell_type": "code",
   "execution_count": 15,
   "id": "5dff1013-4c94-4dc1-840d-f7f8b3f0fa1e",
   "metadata": {},
   "outputs": [],
   "source": [
    "# Convert features to float32\n",
    "X = X.astype('float32')"
   ]
  },
  {
   "cell_type": "code",
   "execution_count": 16,
   "id": "1d73837f-07f5-453f-893b-fc57514fdbc8",
   "metadata": {},
   "outputs": [],
   "source": [
    "# One-hot encoding the target for neural networks\n",
    "y_one_hot = to_categorical(y)"
   ]
  },
  {
   "cell_type": "code",
   "execution_count": 17,
   "id": "b54b0840-073c-49ba-ac1e-50358a8be515",
   "metadata": {},
   "outputs": [],
   "source": [
    "# Split the data into training and testing sets\n",
    "X_train, X_test, y_train, y_test = train_test_split(X, y, test_size=0.2, random_state=42)\n",
    "y_train_nn, y_test_nn = train_test_split(y_one_hot, test_size=0.2, random_state=42)"
   ]
  },
  {
   "cell_type": "code",
   "execution_count": null,
   "id": "2dc4e408-fd22-4026-a709-ff1f6e108bf8",
   "metadata": {
    "scrolled": true
   },
   "outputs": [],
   "source": [
    "# Random Forest Classifier\n",
    "rf_model = RandomForestClassifier(random_state=42)\n",
    "rf_model.fit(X_train, y_train)\n",
    "y_pred_rf = rf_model.predict(X_test)\n",
    "rf_accuracy = accuracy_score(y_test, y_pred_rf)\n",
    "print(f\"Random Forest Accuracy: {rf_accuracy:.2%}\")"
   ]
  },
  {
   "cell_type": "code",
   "execution_count": null,
   "id": "7f74cbfc-1fb1-411d-b5e8-6af175296308",
   "metadata": {},
   "outputs": [],
   "source": [
    "# Get feature importances from the model\n",
    "feature_importances = rf_model.feature_importances_\n",
    "\n",
    "# Sort the feature importances in descending order\n",
    "indices = np.argsort(feature_importances)[::-1]\n",
    "\n",
    "# Plot the feature importances\n",
    "plt.figure(figsize=(12, 8))\n",
    "plt.title(\"Feature Importance in Random Forest Model\")\n",
    "plt.bar(range(X_train.shape[1]), feature_importances[indices], align=\"center\")\n",
    "plt.xticks(range(X_train.shape[1]), X_train.columns[indices], rotation=90)\n",
    "plt.xlim([-1, X_train.shape[1]])\n",
    "plt.xlabel(\"Features\")\n",
    "plt.ylabel(\"Importance\")\n",
    "plt.show()"
   ]
  },
  {
   "cell_type": "code",
   "execution_count": null,
   "id": "572e1fe3-4978-4072-bd98-ffb7ddf196b8",
   "metadata": {
    "scrolled": true
   },
   "outputs": [],
   "source": [
    "# Neural Network\n",
    "model = Sequential()\n",
    "model.add(Dense(128, activation='relu', input_shape=(X_train.shape[1],)))\n",
    "model.add(Dense(64, activation='relu'))\n",
    "model.add(Dense(32, activation='relu'))\n",
    "model.add(Dense(y_train_nn.shape[1], activation='softmax'))\n",
    "\n",
    "model.compile(loss='categorical_crossentropy', optimizer='adam', metrics=['accuracy'])\n",
    "\n",
    "# Train the neural network\n",
    "history = model.fit(X_train, y_train_nn, epochs=50, validation_data=(X_test, y_test_nn), batch_size=128)\n",
    "\n",
    "# Evaluate the neural network\n",
    "nn_loss, nn_accuracy = model.evaluate(X_test, y_test_nn)\n",
    "print(f\"Neural Network Accuracy: {nn_accuracy:.2%}\")"
   ]
  },
  {
   "cell_type": "code",
   "execution_count": null,
   "id": "647cea40-432d-432d-b16a-1ebf88d34f77",
   "metadata": {},
   "outputs": [],
   "source": [
    "# Plot the accuracy and loss graphs\n",
    "plt.figure(figsize=(14, 5))\n",
    "\n",
    "plt.subplot(1, 2, 1)\n",
    "plt.plot(history.history['accuracy'], label='Training Accuracy')\n",
    "plt.plot(history.history['val_accuracy'], label='Validation Accuracy')\n",
    "plt.title('Model Accuracy')\n",
    "plt.xlabel('Epochs')\n",
    "plt.ylabel('Accuracy')\n",
    "plt.legend()\n",
    "\n",
    "plt.subplot(1, 2, 2)\n",
    "plt.plot(history.history['loss'], label='Training Loss')\n",
    "plt.plot(history.history['val_loss'], label='Validation Loss')\n",
    "plt.title('Model Loss')\n",
    "plt.xlabel('Epochs')\n",
    "plt.ylabel('Loss')\n",
    "plt.legend()\n",
    "\n",
    "plt.show()"
   ]
  },
  {
   "cell_type": "code",
   "execution_count": null,
   "id": "f1e07439-1b75-4be3-8bb6-bf4d992d5f19",
   "metadata": {
    "scrolled": true
   },
   "outputs": [],
   "source": [
    "# Define the parameter grid for Random Forest\n",
    "param_grid = {\n",
    "    'n_estimators': [100, 200, 300],\n",
    "    'max_depth': [10, 20, 30, None],\n",
    "    'min_samples_split': [2, 5, 10],\n",
    "    'min_samples_leaf': [1, 2, 4],\n",
    "}\n",
    "\n",
    "# Initialize the Random Forest model\n",
    "rf_model = RandomForestClassifier(random_state=42)\n",
    "\n",
    "# Perform Grid Search or Randomized Search\n",
    "grid_search = GridSearchCV(estimator=rf_model, param_grid=param_grid, cv=3, n_jobs=None, verbose=2)\n",
    "\n",
    "# Fit the model to the training data\n",
    "grid_search.fit(X_train, y_train)\n",
    "\n",
    "# Get the best parameters and accuracy\n",
    "best_rf = grid_search.best_estimator_\n",
    "print(f\"Best Parameters: {grid_search.best_params_}\")\n",
    "print(f\"Best Accuracy: {grid_search.best_score_:.2%}\")\n",
    "\n",
    "# Evaluate on the test set\n",
    "y_pred_rf = best_rf.predict(X_test)\n",
    "rf_accuracy = accuracy_score(y_test, y_pred_rf)\n",
    "print(f\"Random Forest Test Accuracy: {rf_accuracy:.2%}\")"
   ]
  },
  {
   "cell_type": "code",
   "execution_count": null,
   "id": "df455a53-e1d1-4255-b099-7c216950a4d8",
   "metadata": {},
   "outputs": [],
   "source": [
    "# # Get feature importances from the model\n",
    "feature_importances = best_rf.feature_importances_\n",
    "\n",
    "# # Sort the feature importances in descending order\n",
    "indices = np.argsort(feature_importances)[::-1]\n",
    "\n",
    "# # Plot the feature importances\n",
    "plt.figure(figsize=(12, 8))\n",
    "plt.title(\"Feature Importance in Random Forest Model\")\n",
    "plt.bar(range(X_train.shape[1]), feature_importances[indices], align=\"center\")\n",
    "plt.xticks(range(X_train.shape[1]), X_train.columns[indices], rotation=90)\n",
    "plt.xlim([-1, X_train.shape[1]])\n",
    "plt.xlabel(\"Features\")\n",
    "plt.ylabel(\"Importance\")\n",
    "plt.show()"
   ]
  },
  {
   "cell_type": "code",
   "execution_count": null,
   "id": "438538d1-6b41-4403-809e-202426d731da",
   "metadata": {
    "scrolled": true
   },
   "outputs": [],
   "source": [
    "# # Define the model-building function\n",
    "# def build_model(hp):\n",
    "#     model = Sequential()\n",
    "#     model.add(Dense(units=hp.Int('units_input', min_value=32, max_value=512, step=32),\n",
    "#                     activation='relu', input_shape=(X_train.shape[1],)))\n",
    "#     model.add(Dropout(rate=hp.Float('dropout_rate', min_value=0.0, max_value=0.5, step=0.1)))\n",
    "\n",
    "#     for i in range(hp.Int('num_layers', 1, 3)):\n",
    "#         model.add(Dense(units=hp.Int(f'units_{i}', min_value=32, max_value=512, step=32), activation='relu'))\n",
    "#         model.add(Dropout(rate=hp.Float(f'dropout_{i}', min_value=0.0, max_value=0.5, step=0.1)))\n",
    "\n",
    "#     model.add(Dense(y_train_nn.shape[1], activation='softmax'))\n",
    "\n",
    "#     model.compile(optimizer=Adam(hp.Choice('learning_rate', values=[1e-2, 1e-3, 1e-4])),\n",
    "#                   loss='categorical_crossentropy',\n",
    "#                   metrics=['accuracy'])\n",
    "#     return model\n",
    "\n",
    "# # Initialize the tuner\n",
    "# tuner = kt.RandomSearch(\n",
    "#     build_model,\n",
    "#     objective='val_accuracy',\n",
    "#     max_trials=5,  # Number of models to try\n",
    "#     executions_per_trial=3,  # Number of times to train each model\n",
    "#     directory='keras_tuner',\n",
    "#     project_name='crime_type_prediction_nn')\n",
    "\n",
    "# # Run the hyperparameter search\n",
    "# tuner.search(X_train, y_train_nn, epochs=50, validation_data=(X_test, y_test_nn))\n",
    "\n",
    "# # Get the best model\n",
    "# best_model = tuner.get_best_models(num_models=1)[0]\n",
    "# best_hyperparameters = tuner.get_best_hyperparameters(num_trials=1)[0]\n",
    "\n",
    "# # Evaluate on the test set\n",
    "# nn_loss, nn_accuracy = best_model.evaluate(X_test, y_test_nn)\n",
    "# print(f\"Neural Network Test Accuracy: {nn_accuracy:.2%}\")"
   ]
  },
  {
   "cell_type": "code",
   "execution_count": null,
   "id": "987ec6c8-4739-4cd0-89c7-7b158420a766",
   "metadata": {},
   "outputs": [],
   "source": []
  }
 ],
 "metadata": {
  "kernelspec": {
   "display_name": "Python 3 (ipykernel)",
   "language": "python",
   "name": "python3"
  },
  "language_info": {
   "codemirror_mode": {
    "name": "ipython",
    "version": 3
   },
   "file_extension": ".py",
   "mimetype": "text/x-python",
   "name": "python",
   "nbconvert_exporter": "python",
   "pygments_lexer": "ipython3",
   "version": "3.11.5"
  }
 },
 "nbformat": 4,
 "nbformat_minor": 5
}
